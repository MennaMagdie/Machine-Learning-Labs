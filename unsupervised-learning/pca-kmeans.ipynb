{
 "cells": [
  {
   "cell_type": "markdown",
   "metadata": {},
   "source": [
    "## Lab 4: Unsupervised Learning\n",
    "\n",
    "\n",
    "Dataset: https://www.kaggle.com/datasets/uciml/breast-cancer-wisconsin-data\n",
    "\n",
    "\n",
    "Steps:\n",
    "1. PCA implementation\n",
    "2. K-means implementation\n",
    "\n",
    "Then:\n",
    "\n",
    "3. Exp1: Cluster using k-means + apply elbow method\n",
    "4. Exp2: Cluster using PCA then k-means + apply elbow method\n",
    "5. Apply Elbow Method for both experiments\n",
    "6. Calculate errors for both experiments\n",
    "7. Try different numbers of PC\n",
    "\n",
    "\n",
    "8. OG labels VS output\n",
    "9. Validate via PCA sklearn\n"
   ]
  }
 ],
 "metadata": {
  "kernelspec": {
   "display_name": "ml_env",
   "language": "python",
   "name": "python3"
  },
  "language_info": {
   "codemirror_mode": {
    "name": "ipython",
    "version": 3
   },
   "file_extension": ".py",
   "mimetype": "text/x-python",
   "name": "python",
   "nbconvert_exporter": "python",
   "pygments_lexer": "ipython3",
   "version": "3.9.20"
  }
 },
 "nbformat": 4,
 "nbformat_minor": 2
}
