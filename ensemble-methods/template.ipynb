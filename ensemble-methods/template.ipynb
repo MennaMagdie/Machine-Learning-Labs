{
 "cells": [
  {
   "cell_type": "markdown",
   "metadata": {},
   "source": [
    "### **Lab 3**\n",
    "\n",
    "Assignment Details:\n",
    "\n",
    "1. Data Analysis\n",
    "    - Univariate \n",
    "    - Bivariate \n",
    "    - Multivariate\n",
    "2. Feauture Engineering\n",
    "3. Ensemble methods\n",
    "    - Bagging \n",
    "    - Boosting\n",
    "    - Random Forests\n",
    "4. Hyperparameter Tuning\n",
    "5. Final System"
   ]
  }
 ],
 "metadata": {
  "kernelspec": {
   "display_name": "ml_env",
   "language": "python",
   "name": "python3"
  },
  "language_info": {
   "name": "python",
   "version": "3.9.20"
  }
 },
 "nbformat": 4,
 "nbformat_minor": 2
}
