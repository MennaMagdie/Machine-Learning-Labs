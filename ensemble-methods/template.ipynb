{
 "cells": [
  {
   "cell_type": "markdown",
   "metadata": {},
   "source": [
    "### **Lab 3**\n",
    "\n",
    "Assignment Details:\n",
    "\n",
    "1. Data Analysis\n",
    "    - Univariate \n",
    "    - Bivariate \n",
    "    - Multivariate\n",
    "2. Feauture Engineering\n",
    "3. Ensemble methods\n",
    "    - Bagging \n",
    "    - Boosting\n",
    "    - Random Forests\n",
    "4. Hyperparameter Tuning\n",
    "5. Final System"
   ]
  }
 ],
 "metadata": {
  "language_info": {
   "name": "python"
  }
 },
 "nbformat": 4,
 "nbformat_minor": 2
}
