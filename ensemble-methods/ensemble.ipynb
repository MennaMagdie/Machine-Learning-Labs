{
  "nbformat": 4,
  "nbformat_minor": 0,
  "metadata": {
    "colab": {
      "provenance": []
    },
    "kernelspec": {
      "name": "python3",
      "display_name": "Python 3"
    },
    "language_info": {
      "name": "python"
    }
  },
  "cells": [
    {
      "cell_type": "markdown",
      "source": [
        "1. Ensemble methods\n",
        "    - Bagging\n",
        "    - Boosting\n",
        "    - Random Forests\n",
        "2. Hyperparameter Tuning\n",
        "3. Final System"
      ],
      "metadata": {
        "id": "OW7FhavoOT6Y"
      }
    },
    {
      "cell_type": "code",
      "execution_count": 1,
      "metadata": {
        "id": "9TYMTIKOF9R2"
      },
      "outputs": [],
      "source": [
        "import numpy as np\n",
        "import pandas as pd\n",
        "from sklearn.tree import DecisionTreeRegressor\n",
        "from sklearn.preprocessing import OneHotEncoder\n",
        "from sklearn.metrics import accuracy_score\n",
        "from sklearn.model_selection import train_test_split\n",
        "import matplotlib.pyplot as plt"
      ]
    },
    {
      "cell_type": "code",
      "source": [
        "df = pd.read_csv(\"output.csv\")\n",
        "df.head()"
      ],
      "metadata": {
        "colab": {
          "base_uri": "https://localhost:8080/",
          "height": 243
        },
        "id": "9JmMh4TQO6F0",
        "outputId": "af9c83b8-5b41-4adf-f421-130792360a7f"
      },
      "execution_count": 5,
      "outputs": [
        {
          "output_type": "execute_result",
          "data": {
            "text/plain": [
              "   systolic  eyesight(left)  hearing(right)  ...       Gtp  serum creatinine^2     Gtp^2\n",
              "0  0.981702       -1.257856               1  ... -0.295342            0.357517  0.087227\n",
              "1  1.845852       -1.009169               2  ...  0.025124            1.335205  0.000631\n",
              "2 -0.353802       -1.506543               1  ...  0.537870            0.267536  0.289304\n",
              "3  0.667465        1.229017               1  ... -0.199202            0.357517  0.039681\n",
              "4 -0.118125        1.229017               1  ... -0.615808            0.267536  0.379219\n",
              "\n",
              "[5 rows x 13 columns]"
            ],
            "text/html": [
              "\n",
              "  <div id=\"df-cf8da108-eaa1-4fd5-b59b-b37554249472\" class=\"colab-df-container\">\n",
              "    <div>\n",
              "<style scoped>\n",
              "    .dataframe tbody tr th:only-of-type {\n",
              "        vertical-align: middle;\n",
              "    }\n",
              "\n",
              "    .dataframe tbody tr th {\n",
              "        vertical-align: top;\n",
              "    }\n",
              "\n",
              "    .dataframe thead th {\n",
              "        text-align: right;\n",
              "    }\n",
              "</style>\n",
              "<table border=\"1\" class=\"dataframe\">\n",
              "  <thead>\n",
              "    <tr style=\"text-align: right;\">\n",
              "      <th></th>\n",
              "      <th>systolic</th>\n",
              "      <th>eyesight(left)</th>\n",
              "      <th>hearing(right)</th>\n",
              "      <th>ALT</th>\n",
              "      <th>relaxation</th>\n",
              "      <th>Cholesterol</th>\n",
              "      <th>AST</th>\n",
              "      <th>hearing(left)</th>\n",
              "      <th>smoking</th>\n",
              "      <th>serum creatinine</th>\n",
              "      <th>Gtp</th>\n",
              "      <th>serum creatinine^2</th>\n",
              "      <th>Gtp^2</th>\n",
              "    </tr>\n",
              "  </thead>\n",
              "  <tbody>\n",
              "    <tr>\n",
              "      <th>0</th>\n",
              "      <td>0.981702</td>\n",
              "      <td>-1.257856</td>\n",
              "      <td>1</td>\n",
              "      <td>-0.087326</td>\n",
              "      <td>1.125777</td>\n",
              "      <td>-0.837985</td>\n",
              "      <td>-0.371570</td>\n",
              "      <td>1</td>\n",
              "      <td>1</td>\n",
              "      <td>0.597927</td>\n",
              "      <td>-0.295342</td>\n",
              "      <td>0.357517</td>\n",
              "      <td>0.087227</td>\n",
              "    </tr>\n",
              "    <tr>\n",
              "      <th>1</th>\n",
              "      <td>1.845852</td>\n",
              "      <td>-1.009169</td>\n",
              "      <td>2</td>\n",
              "      <td>-0.199983</td>\n",
              "      <td>0.681066</td>\n",
              "      <td>-0.063252</td>\n",
              "      <td>0.156700</td>\n",
              "      <td>2</td>\n",
              "      <td>0</td>\n",
              "      <td>1.155511</td>\n",
              "      <td>0.025124</td>\n",
              "      <td>1.335205</td>\n",
              "      <td>0.000631</td>\n",
              "    </tr>\n",
              "    <tr>\n",
              "      <th>2</th>\n",
              "      <td>-0.353802</td>\n",
              "      <td>-1.506543</td>\n",
              "      <td>1</td>\n",
              "      <td>0.250645</td>\n",
              "      <td>-0.208355</td>\n",
              "      <td>-0.626695</td>\n",
              "      <td>0.156700</td>\n",
              "      <td>1</td>\n",
              "      <td>1</td>\n",
              "      <td>-0.517239</td>\n",
              "      <td>0.537870</td>\n",
              "      <td>0.267536</td>\n",
              "      <td>0.289304</td>\n",
              "    </tr>\n",
              "    <tr>\n",
              "      <th>3</th>\n",
              "      <td>0.667465</td>\n",
              "      <td>1.229017</td>\n",
              "      <td>1</td>\n",
              "      <td>0.025331</td>\n",
              "      <td>1.236955</td>\n",
              "      <td>-0.556264</td>\n",
              "      <td>-0.582878</td>\n",
              "      <td>1</td>\n",
              "      <td>0</td>\n",
              "      <td>0.597927</td>\n",
              "      <td>-0.199202</td>\n",
              "      <td>0.357517</td>\n",
              "      <td>0.039681</td>\n",
              "    </tr>\n",
              "    <tr>\n",
              "      <th>4</th>\n",
              "      <td>-0.118125</td>\n",
              "      <td>1.229017</td>\n",
              "      <td>1</td>\n",
              "      <td>-0.763267</td>\n",
              "      <td>-0.097177</td>\n",
              "      <td>-1.436643</td>\n",
              "      <td>-0.688532</td>\n",
              "      <td>1</td>\n",
              "      <td>1</td>\n",
              "      <td>-0.517239</td>\n",
              "      <td>-0.615808</td>\n",
              "      <td>0.267536</td>\n",
              "      <td>0.379219</td>\n",
              "    </tr>\n",
              "  </tbody>\n",
              "</table>\n",
              "</div>\n",
              "    <div class=\"colab-df-buttons\">\n",
              "\n",
              "  <div class=\"colab-df-container\">\n",
              "    <button class=\"colab-df-convert\" onclick=\"convertToInteractive('df-cf8da108-eaa1-4fd5-b59b-b37554249472')\"\n",
              "            title=\"Convert this dataframe to an interactive table.\"\n",
              "            style=\"display:none;\">\n",
              "\n",
              "  <svg xmlns=\"http://www.w3.org/2000/svg\" height=\"24px\" viewBox=\"0 -960 960 960\">\n",
              "    <path d=\"M120-120v-720h720v720H120Zm60-500h600v-160H180v160Zm220 220h160v-160H400v160Zm0 220h160v-160H400v160ZM180-400h160v-160H180v160Zm440 0h160v-160H620v160ZM180-180h160v-160H180v160Zm440 0h160v-160H620v160Z\"/>\n",
              "  </svg>\n",
              "    </button>\n",
              "\n",
              "  <style>\n",
              "    .colab-df-container {\n",
              "      display:flex;\n",
              "      gap: 12px;\n",
              "    }\n",
              "\n",
              "    .colab-df-convert {\n",
              "      background-color: #E8F0FE;\n",
              "      border: none;\n",
              "      border-radius: 50%;\n",
              "      cursor: pointer;\n",
              "      display: none;\n",
              "      fill: #1967D2;\n",
              "      height: 32px;\n",
              "      padding: 0 0 0 0;\n",
              "      width: 32px;\n",
              "    }\n",
              "\n",
              "    .colab-df-convert:hover {\n",
              "      background-color: #E2EBFA;\n",
              "      box-shadow: 0px 1px 2px rgba(60, 64, 67, 0.3), 0px 1px 3px 1px rgba(60, 64, 67, 0.15);\n",
              "      fill: #174EA6;\n",
              "    }\n",
              "\n",
              "    .colab-df-buttons div {\n",
              "      margin-bottom: 4px;\n",
              "    }\n",
              "\n",
              "    [theme=dark] .colab-df-convert {\n",
              "      background-color: #3B4455;\n",
              "      fill: #D2E3FC;\n",
              "    }\n",
              "\n",
              "    [theme=dark] .colab-df-convert:hover {\n",
              "      background-color: #434B5C;\n",
              "      box-shadow: 0px 1px 3px 1px rgba(0, 0, 0, 0.15);\n",
              "      filter: drop-shadow(0px 1px 2px rgba(0, 0, 0, 0.3));\n",
              "      fill: #FFFFFF;\n",
              "    }\n",
              "  </style>\n",
              "\n",
              "    <script>\n",
              "      const buttonEl =\n",
              "        document.querySelector('#df-cf8da108-eaa1-4fd5-b59b-b37554249472 button.colab-df-convert');\n",
              "      buttonEl.style.display =\n",
              "        google.colab.kernel.accessAllowed ? 'block' : 'none';\n",
              "\n",
              "      async function convertToInteractive(key) {\n",
              "        const element = document.querySelector('#df-cf8da108-eaa1-4fd5-b59b-b37554249472');\n",
              "        const dataTable =\n",
              "          await google.colab.kernel.invokeFunction('convertToInteractive',\n",
              "                                                    [key], {});\n",
              "        if (!dataTable) return;\n",
              "\n",
              "        const docLinkHtml = 'Like what you see? Visit the ' +\n",
              "          '<a target=\"_blank\" href=https://colab.research.google.com/notebooks/data_table.ipynb>data table notebook</a>'\n",
              "          + ' to learn more about interactive tables.';\n",
              "        element.innerHTML = '';\n",
              "        dataTable['output_type'] = 'display_data';\n",
              "        await google.colab.output.renderOutput(dataTable, element);\n",
              "        const docLink = document.createElement('div');\n",
              "        docLink.innerHTML = docLinkHtml;\n",
              "        element.appendChild(docLink);\n",
              "      }\n",
              "    </script>\n",
              "  </div>\n",
              "\n",
              "\n",
              "<div id=\"df-991d6872-9193-485b-aef2-d22905e7e7bf\">\n",
              "  <button class=\"colab-df-quickchart\" onclick=\"quickchart('df-991d6872-9193-485b-aef2-d22905e7e7bf')\"\n",
              "            title=\"Suggest charts\"\n",
              "            style=\"display:none;\">\n",
              "\n",
              "<svg xmlns=\"http://www.w3.org/2000/svg\" height=\"24px\"viewBox=\"0 0 24 24\"\n",
              "     width=\"24px\">\n",
              "    <g>\n",
              "        <path d=\"M19 3H5c-1.1 0-2 .9-2 2v14c0 1.1.9 2 2 2h14c1.1 0 2-.9 2-2V5c0-1.1-.9-2-2-2zM9 17H7v-7h2v7zm4 0h-2V7h2v10zm4 0h-2v-4h2v4z\"/>\n",
              "    </g>\n",
              "</svg>\n",
              "  </button>\n",
              "\n",
              "<style>\n",
              "  .colab-df-quickchart {\n",
              "      --bg-color: #E8F0FE;\n",
              "      --fill-color: #1967D2;\n",
              "      --hover-bg-color: #E2EBFA;\n",
              "      --hover-fill-color: #174EA6;\n",
              "      --disabled-fill-color: #AAA;\n",
              "      --disabled-bg-color: #DDD;\n",
              "  }\n",
              "\n",
              "  [theme=dark] .colab-df-quickchart {\n",
              "      --bg-color: #3B4455;\n",
              "      --fill-color: #D2E3FC;\n",
              "      --hover-bg-color: #434B5C;\n",
              "      --hover-fill-color: #FFFFFF;\n",
              "      --disabled-bg-color: #3B4455;\n",
              "      --disabled-fill-color: #666;\n",
              "  }\n",
              "\n",
              "  .colab-df-quickchart {\n",
              "    background-color: var(--bg-color);\n",
              "    border: none;\n",
              "    border-radius: 50%;\n",
              "    cursor: pointer;\n",
              "    display: none;\n",
              "    fill: var(--fill-color);\n",
              "    height: 32px;\n",
              "    padding: 0;\n",
              "    width: 32px;\n",
              "  }\n",
              "\n",
              "  .colab-df-quickchart:hover {\n",
              "    background-color: var(--hover-bg-color);\n",
              "    box-shadow: 0 1px 2px rgba(60, 64, 67, 0.3), 0 1px 3px 1px rgba(60, 64, 67, 0.15);\n",
              "    fill: var(--button-hover-fill-color);\n",
              "  }\n",
              "\n",
              "  .colab-df-quickchart-complete:disabled,\n",
              "  .colab-df-quickchart-complete:disabled:hover {\n",
              "    background-color: var(--disabled-bg-color);\n",
              "    fill: var(--disabled-fill-color);\n",
              "    box-shadow: none;\n",
              "  }\n",
              "\n",
              "  .colab-df-spinner {\n",
              "    border: 2px solid var(--fill-color);\n",
              "    border-color: transparent;\n",
              "    border-bottom-color: var(--fill-color);\n",
              "    animation:\n",
              "      spin 1s steps(1) infinite;\n",
              "  }\n",
              "\n",
              "  @keyframes spin {\n",
              "    0% {\n",
              "      border-color: transparent;\n",
              "      border-bottom-color: var(--fill-color);\n",
              "      border-left-color: var(--fill-color);\n",
              "    }\n",
              "    20% {\n",
              "      border-color: transparent;\n",
              "      border-left-color: var(--fill-color);\n",
              "      border-top-color: var(--fill-color);\n",
              "    }\n",
              "    30% {\n",
              "      border-color: transparent;\n",
              "      border-left-color: var(--fill-color);\n",
              "      border-top-color: var(--fill-color);\n",
              "      border-right-color: var(--fill-color);\n",
              "    }\n",
              "    40% {\n",
              "      border-color: transparent;\n",
              "      border-right-color: var(--fill-color);\n",
              "      border-top-color: var(--fill-color);\n",
              "    }\n",
              "    60% {\n",
              "      border-color: transparent;\n",
              "      border-right-color: var(--fill-color);\n",
              "    }\n",
              "    80% {\n",
              "      border-color: transparent;\n",
              "      border-right-color: var(--fill-color);\n",
              "      border-bottom-color: var(--fill-color);\n",
              "    }\n",
              "    90% {\n",
              "      border-color: transparent;\n",
              "      border-bottom-color: var(--fill-color);\n",
              "    }\n",
              "  }\n",
              "</style>\n",
              "\n",
              "  <script>\n",
              "    async function quickchart(key) {\n",
              "      const quickchartButtonEl =\n",
              "        document.querySelector('#' + key + ' button');\n",
              "      quickchartButtonEl.disabled = true;  // To prevent multiple clicks.\n",
              "      quickchartButtonEl.classList.add('colab-df-spinner');\n",
              "      try {\n",
              "        const charts = await google.colab.kernel.invokeFunction(\n",
              "            'suggestCharts', [key], {});\n",
              "      } catch (error) {\n",
              "        console.error('Error during call to suggestCharts:', error);\n",
              "      }\n",
              "      quickchartButtonEl.classList.remove('colab-df-spinner');\n",
              "      quickchartButtonEl.classList.add('colab-df-quickchart-complete');\n",
              "    }\n",
              "    (() => {\n",
              "      let quickchartButtonEl =\n",
              "        document.querySelector('#df-991d6872-9193-485b-aef2-d22905e7e7bf button');\n",
              "      quickchartButtonEl.style.display =\n",
              "        google.colab.kernel.accessAllowed ? 'block' : 'none';\n",
              "    })();\n",
              "  </script>\n",
              "</div>\n",
              "\n",
              "    </div>\n",
              "  </div>\n"
            ],
            "application/vnd.google.colaboratory.intrinsic+json": {
              "type": "dataframe",
              "variable_name": "df"
            }
          },
          "metadata": {},
          "execution_count": 5
        }
      ]
    },
    {
      "cell_type": "code",
      "source": [
        "X = df.drop('smoking', axis=1)\n",
        "y = df['smoking']"
      ],
      "metadata": {
        "id": "K6WzrET4S4xm"
      },
      "execution_count": 6,
      "outputs": []
    },
    {
      "cell_type": "code",
      "source": [
        "X_train, X_test, y_train, y_test = train_test_split(X, y, test_size=0.2, random_state=42)\n",
        "\n",
        "print(X_train.shape)\n",
        "print(X_test.shape)"
      ],
      "metadata": {
        "colab": {
          "base_uri": "https://localhost:8080/"
        },
        "id": "pbUVQb2STC4Z",
        "outputId": "5ff8cc42-fdf0-41ab-8aa6-aed0144dfad2"
      },
      "execution_count": 8,
      "outputs": [
        {
          "output_type": "stream",
          "name": "stdout",
          "text": [
            "(127404, 12)\n",
            "(31852, 12)\n"
          ]
        }
      ]
    },
    {
      "cell_type": "markdown",
      "source": [
        "# **1. Bagging**"
      ],
      "metadata": {
        "id": "RwZVToeeOx0m"
      }
    },
    {
      "cell_type": "markdown",
      "source": [
        "# **2. Boosting**"
      ],
      "metadata": {
        "id": "pXQhQEpsOLqC"
      }
    },
    {
      "cell_type": "markdown",
      "source": [
        "Resources: [Boosting](https://randomrealizations.com/posts/gradient-boosting-multi-class-classification-from-scratch/)"
      ],
      "metadata": {
        "id": "f9BntPcKPIYG"
      }
    },
    {
      "cell_type": "markdown",
      "source": [
        "## Hyperparameters"
      ],
      "metadata": {
        "id": "w62MzE1-TK2T"
      }
    },
    {
      "cell_type": "code",
      "source": [
        "n_estimators = 10  # Number of boosting iterations\n",
        "alpha = 0.01  # learning rate\n",
        "max_depth = 3 # maximum tree depth"
      ],
      "metadata": {
        "id": "mRj1WBl3TKEs"
      },
      "execution_count": 10,
      "outputs": []
    },
    {
      "cell_type": "code",
      "source": [
        "class Boosting():\n",
        "    '''Gradient Boosting Classifier from Scratch.\n",
        "\n",
        "    Parameters\n",
        "    ----------\n",
        "    n_estimators : int\n",
        "        number of boosting rounds\n",
        "\n",
        "    learning_rate : float\n",
        "        learning rate hyperparameter\n",
        "\n",
        "    max_depth : int\n",
        "        maximum tree depth\n",
        "    '''\n",
        "\n",
        "    def __init__(self, n_estimators, learning_rate=0.1, max_depth=1):\n",
        "        self.n_estimators=n_estimators;\n",
        "        self.learning_rate=learning_rate\n",
        "        self.max_depth=max_depth;\n",
        "\n",
        "    def fit(self, X, y):\n",
        "        '''Fit the GBM\n",
        "\n",
        "        Parameters\n",
        "        ----------\n",
        "        X : ndarray of size (number observations, number features)\n",
        "            design matrix\n",
        "\n",
        "        y : ndarray of size (number observations,)\n",
        "            integer-encoded target labels in {0,1,...,k-1}\n",
        "        '''\n",
        "\n",
        "        self.n_classes = pd.Series(y).nunique()\n",
        "        y_ohe = self._one_hot_encode_labels(y)\n",
        "\n",
        "        raw_predictions = np.zeros(shape=y_ohe.shape)\n",
        "        probabilities = self._softmax(raw_predictions)\n",
        "        self.boosters = []\n",
        "        for m in range(self.n_estimators):\n",
        "            class_trees = []\n",
        "            for k in range(self.n_classes):\n",
        "                negative_gradients = self._negative_gradients(y_ohe[:, k], probabilities[:, k])\n",
        "                hessians = self._hessians(probabilities[:, k])\n",
        "                tree = DecisionTreeRegressor(max_depth=self.max_depth)\n",
        "                tree.fit(X, negative_gradients);\n",
        "                self._update_terminal_nodes(tree, X, negative_gradients, hessians)\n",
        "                raw_predictions[:, k] += self.learning_rate * tree.predict(X)\n",
        "                probabilities = self._softmax(raw_predictions)\n",
        "                class_trees.append(tree)\n",
        "            self.boosters.append(class_trees)\n",
        "\n",
        "    def _one_hot_encode_labels(self, y):\n",
        "        if isinstance(y, pd.Series): y = y.values\n",
        "        ohe = OneHotEncoder()\n",
        "        y_ohe = ohe.fit_transform(y.reshape(-1, 1)).toarray()\n",
        "        return y_ohe\n",
        "\n",
        "    def _negative_gradients(self, y_ohe, probabilities):\n",
        "        return y_ohe - probabilities\n",
        "\n",
        "    def _hessians(self, probabilities):\n",
        "        return probabilities * (1 - probabilities)\n",
        "\n",
        "    def _softmax(self, raw_predictions):\n",
        "        numerator = np.exp(raw_predictions)\n",
        "        denominator = np.sum(np.exp(raw_predictions), axis=1).reshape(-1, 1)\n",
        "        return numerator / denominator\n",
        "\n",
        "    def _update_terminal_nodes(self, tree, X, negative_gradients, hessians):\n",
        "        '''Update the terminal node predicted values'''\n",
        "        # terminal node id's\n",
        "        leaf_nodes = np.nonzero(tree.tree_.children_left == -1)[0]\n",
        "        # compute leaf for each sample in ``X``.\n",
        "        leaf_node_for_each_sample = tree.apply(X)\n",
        "        for leaf in leaf_nodes:\n",
        "            samples_in_this_leaf = np.where(leaf_node_for_each_sample == leaf)[0]\n",
        "            negative_gradients_in_leaf = negative_gradients.take(samples_in_this_leaf, axis=0)\n",
        "            hessians_in_leaf = hessians.take(samples_in_this_leaf, axis=0)\n",
        "            val = np.sum(negative_gradients_in_leaf) / np.sum(hessians_in_leaf)\n",
        "            tree.tree_.value[leaf, 0, 0] = val\n",
        "\n",
        "    def predict_proba(self, X):\n",
        "        '''Generate probability predictions for the given input data.'''\n",
        "        raw_predictions =  np.zeros(shape=(X.shape[0], self.n_classes))\n",
        "        for k in range(self.n_classes):\n",
        "            for booster in self.boosters:\n",
        "                raw_predictions[:, k] +=self.learning_rate * booster[k].predict(X)\n",
        "        probabilities = self._softmax(raw_predictions)\n",
        "        return probabilities\n",
        "\n",
        "    def predict(self, X):\n",
        "        '''Generate predicted labels (as 1-d array)'''\n",
        "        probabilities = self.predict_proba(X)\n",
        "        return np.argmax(probabilities, axis=1)"
      ],
      "metadata": {
        "id": "w-BobGo1eT1Z"
      },
      "execution_count": 11,
      "outputs": []
    },
    {
      "cell_type": "markdown",
      "source": [
        "## Test"
      ],
      "metadata": {
        "id": "0PM2fmSuepTz"
      }
    },
    {
      "cell_type": "code",
      "source": [
        "model = Boosting(n_estimators, alpha, max_depth)\n",
        "model.fit(X_train, y_train)\n",
        "accuracy = accuracy_score(y_test, model.predict(X_test))\n",
        "print(f\"Boosting Accuracy: {(accuracy*100):.4f}%\")"
      ],
      "metadata": {
        "colab": {
          "base_uri": "https://localhost:8080/"
        },
        "id": "7rL9au1oeonx",
        "outputId": "e5d9cb54-be77-43b3-94be-8a6635471996"
      },
      "execution_count": 13,
      "outputs": [
        {
          "output_type": "stream",
          "name": "stdout",
          "text": [
            "Boosting Accuracy: 69.8010%\n"
          ]
        }
      ]
    },
    {
      "cell_type": "markdown",
      "source": [
        "## **3. Random Forests**"
      ],
      "metadata": {
        "id": "U8-zh3U4iQeK"
      }
    },
    {
      "cell_type": "markdown",
      "source": [
        "Resources: [Random Forest](https://youtu.be/ErkHne_Mf7g?si=v6MwL9ku8Hh4SSNM)"
      ],
      "metadata": {
        "id": "oHXP19BPipE4"
      }
    },
    {
      "cell_type": "code",
      "source": [],
      "metadata": {
        "id": "Wqr5dpNRiZvR"
      },
      "execution_count": null,
      "outputs": []
    }
  ]
}